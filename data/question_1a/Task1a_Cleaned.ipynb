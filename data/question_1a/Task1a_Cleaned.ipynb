{
 "cells": [
  {
   "cell_type": "code",
   "execution_count": 1,
   "id": "15286243",
   "metadata": {},
   "outputs": [],
   "source": [
    "import gurobipy as gp\n",
    "from gurobipy import GRB\n",
    "import json\n",
    "import pandas as pd\n",
    "import numpy as np"
   ]
  },
  {
   "cell_type": "code",
   "execution_count": 19,
   "id": "37830340",
   "metadata": {},
   "outputs": [],
   "source": [
    "\"Loading the Solar Production Data\";\n",
    "with open(r\"C:\\Users\\Pulin\\Desktop\\Optimisation_PowerSystems_Assignment1\\data\\question_1a\\DER_production.json\", \"r\") as f:\n",
    "    data1 = json.load(f)\n",
    "\n",
    "\"Fully Flexible Load (FFL) Data\";\n",
    "# Load JSON filen\n",
    "with open(r\"C:\\Users\\Pulin\\Desktop\\Optimisation_PowerSystems_Assignment1\\data\\question_1a\\usage_preference.json\", \"r\") as f:\n",
    "    data2 = json.load(f)\n",
    "\n",
    "\"Electrcity Markert Data\";\n",
    "with open(r\"C:\\Users\\Pulin\\Desktop\\Optimisation_PowerSystems_Assignment1\\data\\question_1a\\bus_params.json\", \"r\") as f:\n",
    "    data3 = json.load(f)\n",
    "\n",
    "\"Ramp Rates and Max Load/Power\";\n",
    "with open(r\"C:\\Users\\Pulin\\Desktop\\Optimisation_PowerSystems_Assignment1\\data\\question_1a\\appliance_params.json\", \"r\") as f:\n",
    "    data4 = json.load(f)\n"
   ]
  },
  {
   "cell_type": "markdown",
   "id": "c4846ee0",
   "metadata": {},
   "source": [
    "- Function for retreiving/reading the data"
   ]
  },
  {
   "cell_type": "code",
   "execution_count": 5,
   "id": "d25407a0",
   "metadata": {},
   "outputs": [],
   "source": [
    "def get_param(data, key, category=None, idx=0, subcategory=None, subidx=0):\n",
    "    \"\"\"\n",
    "    General function to access a value from a (possibly nested) data dictionary.\n",
    "\n",
    "    Args:\n",
    "        data (dict or list): The loaded JSON dictionary or list of dicts.\n",
    "        key (str): The key to access.\n",
    "        category (str or None): The category (e.g., \"DER\", \"load\", \"storage\") if nested, else None.\n",
    "        idx (int): Index in the list (default 0).\n",
    "        subcategory (str or None): Optional subcategory key (e.g., \"load_preferences\").\n",
    "        subidx (int): Index in the subcategory list (default 0).\n",
    "\n",
    "    Returns:\n",
    "        The value for the requested key, or None if not found.\n",
    "    \"\"\"\n",
    "    try:\n",
    "        if category and subcategory:\n",
    "            return data[category][idx][subcategory][subidx][key]\n",
    "        elif category:\n",
    "            return data[category][idx][key]\n",
    "        elif subcategory:\n",
    "            return data[idx][subcategory][subidx][key]\n",
    "        elif isinstance(data, list):\n",
    "            return data[idx][key]\n",
    "        else:\n",
    "            return data[key]\n",
    "    except (KeyError, IndexError, TypeError):\n",
    "        print(f\"Could not find {key} in the provided path.\")\n",
    "        return None\n"
   ]
  },
  {
   "cell_type": "code",
   "execution_count": 63,
   "id": "0b28e8d1",
   "metadata": {},
   "outputs": [
    {
     "data": {
      "text/plain": [
       "10"
      ]
     },
     "execution_count": 63,
     "metadata": {},
     "output_type": "execute_result"
    }
   ],
   "source": [
    "max_power_solar = get_param(data4, \"max_power_kW\", category=\"DER\")\n",
    "max_ramp_up_rate_solar = get_param(data4, \"max_ramp_rate_up_ratio\", category=\"DER\")\n",
    "max_ramp_down_rate_solar = get_param(data4, \"max_ramp_rate_down_ratio\", category= \"DER\")\n",
    "\n",
    "max_load_FFL = get_param(data4,\"max_load_kWh_per_hour\" , category=\"load\")\n",
    "min_load_FFL = get_param(data4, \"min_load_ratio\", category= \"load\")\n",
    "\n",
    "max_ramp_up_rate_FFL = get_param(data4, \"max_ramp_rate_up_ratio\", category= \"load\")\n",
    "max_ramp_down_rate_FFL = get_param(data4,  \"max_ramp_rate_down_ratio\", category= \"load\")\n",
    "\n",
    "\n",
    "price_import = get_param(data3, \"import_tariff_DKK/kWh\")\n",
    "price_export = get_param(data3, \"export_tariff_DKK/kWh\")\n",
    "\n",
    "max_import = get_param(data3, \"max_import_kW\")\n",
    "max_export = get_param(data3, \"max_export_kW\")\n",
    "\n",
    "penalty_excess_import = get_param(data3,\"penalty_excess_import_DKK/kWh\")\n",
    "penalty_excess_export = get_param(data3,)"
   ]
  }
 ],
 "metadata": {
  "kernelspec": {
   "display_name": "integrated-energy-grids",
   "language": "python",
   "name": "python3"
  },
  "language_info": {
   "codemirror_mode": {
    "name": "ipython",
    "version": 3
   },
   "file_extension": ".py",
   "mimetype": "text/x-python",
   "name": "python",
   "nbconvert_exporter": "python",
   "pygments_lexer": "ipython3",
   "version": "3.11.12"
  }
 },
 "nbformat": 4,
 "nbformat_minor": 5
}
